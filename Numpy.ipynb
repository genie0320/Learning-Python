{
  "nbformat": 4,
  "nbformat_minor": 0,
  "metadata": {
    "colab": {
      "provenance": [],
      "authorship_tag": "ABX9TyNVfst0V1O/CpFdfu4wqFDB",
      "include_colab_link": true
    },
    "kernelspec": {
      "name": "python3",
      "display_name": "Python 3"
    },
    "language_info": {
      "name": "python"
    }
  },
  "cells": [
    {
      "cell_type": "markdown",
      "metadata": {
        "id": "view-in-github",
        "colab_type": "text"
      },
      "source": [
        "<a href=\"https://colab.research.google.com/github/genie0320/python/blob/main/Numpy.ipynb\" target=\"_parent\"><img src=\"https://colab.research.google.com/assets/colab-badge.svg\" alt=\"Open In Colab\"/></a>"
      ]
    },
    {
      "cell_type": "markdown",
      "source": [
        "# Numpy For Machine Learning\n",
        "\n",
        "Numpy는 list다루는 특별한 모듈이다.   \n",
        "list에는 여러가지 자료형이 한번에 담길 수 있고, 이를 편하게 다룰 수 있도록 도와주는 모듈이다.\n",
        "\n",
        "Numpy는 Numeric Python 이라는 뜻.\n",
        "ndarray = n - dimentional array"
      ],
      "metadata": {
        "id": "ToTjN4IBfu5p"
      }
    },
    {
      "cell_type": "markdown",
      "source": [
        "## Create Numpy array (ndarray)"
      ],
      "metadata": {
        "id": "95BLPBhdj9St"
      }
    },
    {
      "cell_type": "code",
      "execution_count": 2,
      "metadata": {
        "colab": {
          "base_uri": "https://localhost:8080/"
        },
        "id": "qMK2KAm9fjXf",
        "outputId": "f2d1d6ae-876a-4cc3-99ae-36f713a8151f"
      },
      "outputs": [
        {
          "output_type": "execute_result",
          "data": {
            "text/plain": [
              "[0, 1, 2, 3, 4, 5, 6, 7, 8, 9]"
            ]
          },
          "metadata": {},
          "execution_count": 2
        }
      ],
      "source": [
        "normail_python_list = [0,1,2,3,4,5,6,7,8,9]\n",
        "normail_python_list # [0, 1, 2, 3, 4, 5, 6, 7, 8, 9]"
      ]
    },
    {
      "cell_type": "code",
      "source": [
        "import numpy as np\n",
        "\n",
        "# convert python list to numpy array\n",
        "numpy_array = np.array(normail_python_list)\n",
        "print(numpy_array) # [0 1 2 3 4 5 6 7 8 9]\n",
        "numpy_array # array([0, 1, 2, 3, 4, 5, 6, 7, 8, 9])"
      ],
      "metadata": {
        "colab": {
          "base_uri": "https://localhost:8080/"
        },
        "id": "HGVVE4l8hAvl",
        "outputId": "6725b6b9-af8a-41ed-fefe-424d23d49752"
      },
      "execution_count": 7,
      "outputs": [
        {
          "output_type": "stream",
          "name": "stdout",
          "text": [
            "[0 1 2 3 4 5 6 7 8 9]\n"
          ]
        },
        {
          "output_type": "execute_result",
          "data": {
            "text/plain": [
              "array([0, 1, 2, 3, 4, 5, 6, 7, 8, 9])"
            ]
          },
          "metadata": {},
          "execution_count": 7
        }
      ]
    },
    {
      "cell_type": "code",
      "source": [
        "numpy_array.shape"
      ],
      "metadata": {
        "colab": {
          "base_uri": "https://localhost:8080/"
        },
        "id": "Vd5WuBu5hyaC",
        "outputId": "9403bc96-2b00-4edf-d182-820d54d6acf1"
      },
      "execution_count": 8,
      "outputs": [
        {
          "output_type": "execute_result",
          "data": {
            "text/plain": [
              "(10,)"
            ]
          },
          "metadata": {},
          "execution_count": 8
        }
      ]
    },
    {
      "cell_type": "markdown",
      "source": [
        "- 이렇게 자동으로 값을 만들어낼 수도 있다.  \n",
        "    - np.~ ((차원의 수, 각 차원당 자료의 갯수))  \n"
      ],
      "metadata": {
        "id": "5hIN-or-jp5K"
      }
    },
    {
      "cell_type": "code",
      "source": [
        "# 1차원 자료\n",
        "np.arange(10) # array([0, 1, 2, 3, 4, 5, 6, 7, 8, 9])\n",
        "np.arange(0,10,2) # array([0, 2, 4, 6, 8])\n",
        "\n",
        "# 다차원 자료\n",
        "# np.~ ((차원의 수, 각 차원당 자료의 갯수))\n",
        "np.zeros(10) # array([0., 0., 0., 0., 0., 0., 0., 0., 0., 0.])\n",
        "np.zeros((2,10)) # array([[0., 0., 0., 0., 0., 0., 0., 0., 0., 0.],\n",
        "                 #        [0., 0., 0., 0., 0., 0., 0., 0., 0., 0.]])\n",
        "# np.~ ((차원의 수), 채울 자료)\n",
        "np.full((10), 6) # array([6, 6, 6, 6, 6, 6, 6, 6, 6, 6])\n",
        "np.full((2, 10), 8) # array([[8, 8, 8, 8, 8, 8, 8, 8, 8, 8],\n",
        "                    #        [8, 8, 8, 8, 8, 8, 8, 8, 8, 8]])"
      ],
      "metadata": {
        "colab": {
          "base_uri": "https://localhost:8080/"
        },
        "id": "msPgOeHpiKP6",
        "outputId": "fb8c7e72-e43c-4cda-acc3-00f19a1df3ce"
      },
      "execution_count": 15,
      "outputs": [
        {
          "output_type": "execute_result",
          "data": {
            "text/plain": [
              "array([[8, 8, 8, 8, 8, 8, 8, 8, 8, 8],\n",
              "       [8, 8, 8, 8, 8, 8, 8, 8, 8, 8]])"
            ]
          },
          "metadata": {},
          "execution_count": 15
        }
      ]
    },
    {
      "cell_type": "markdown",
      "source": [
        "## Slicing Numpy Arrays"
      ],
      "metadata": {
        "id": "2wHaHXeokCTM"
      }
    },
    {
      "cell_type": "code",
      "source": [
        "np1 = np.array([1,2,3,4,5,6,7,8,9,10])"
      ],
      "metadata": {
        "id": "EBpsjP2diiXH"
      },
      "execution_count": 16,
      "outputs": []
    },
    {
      "cell_type": "code",
      "source": [
        "np1[1:5] # array([2, 3, 4, 5])\n",
        "np1[:3] # array([1, 2, 3])\n",
        "np1[3:] # array([ 4,  5,  6,  7,  8,  9, 10])\n",
        "np1[-3:-1] # array([8, 9])\n",
        "\n",
        "# steps\n",
        "np1[1:5] # array([2, 3, 4, 5])\n",
        "np1[1:5:2] # array([2, 4])\n",
        "np1[::3] # array([ 1,  4,  7, 10])"
      ],
      "metadata": {
        "colab": {
          "base_uri": "https://localhost:8080/"
        },
        "id": "edyiCvKFkZfD",
        "outputId": "5089a000-e40a-42e3-dcf6-37abd7d6be01"
      },
      "execution_count": 25,
      "outputs": [
        {
          "output_type": "execute_result",
          "data": {
            "text/plain": [
              "array([ 1,  4,  7, 10])"
            ]
          },
          "metadata": {},
          "execution_count": 25
        }
      ]
    },
    {
      "cell_type": "code",
      "source": [
        "np2 = np.array((2,5))\n",
        "np.full((2,10),np.arange(10)) # array([[0, 1, 2, 3, 4, 5, 6, 7, 8, 9],\n",
        "                              #        [0, 1, 2, 3, 4, 5, 6, 7, 8, 9]])"
      ],
      "metadata": {
        "colab": {
          "base_uri": "https://localhost:8080/"
        },
        "id": "eRKZ2ib1kdT3",
        "outputId": "79db3362-32d4-4b3d-d5c5-a68281d80e9d"
      },
      "execution_count": 31,
      "outputs": [
        {
          "output_type": "execute_result",
          "data": {
            "text/plain": [
              "array([[0, 1, 2, 3, 4, 5, 6, 7, 8, 9],\n",
              "       [0, 1, 2, 3, 4, 5, 6, 7, 8, 9]])"
            ]
          },
          "metadata": {},
          "execution_count": 31
        }
      ]
    },
    {
      "cell_type": "code",
      "source": [
        "np2 = np.full((2,10),np.arange(10))\n",
        "np2[0:2, 1:3] # array([[1, 2],\n",
        "              #        [1, 2]])"
      ],
      "metadata": {
        "colab": {
          "base_uri": "https://localhost:8080/"
        },
        "id": "hnih5d0fl0AH",
        "outputId": "c87a92cc-ce7b-447a-a577-3a1a52c8bfe9"
      },
      "execution_count": 33,
      "outputs": [
        {
          "output_type": "execute_result",
          "data": {
            "text/plain": [
              "array([[1, 2],\n",
              "       [1, 2]])"
            ]
          },
          "metadata": {},
          "execution_count": 33
        }
      ]
    },
    {
      "cell_type": "markdown",
      "source": [
        "## Numpy Universal Functions"
      ],
      "metadata": {
        "id": "ES8XXUajnl2R"
      }
    },
    {
      "cell_type": "code",
      "source": [],
      "metadata": {
        "id": "dOdXt26hmqof"
      },
      "execution_count": null,
      "outputs": []
    },
    {
      "cell_type": "markdown",
      "source": [
        "## Etc.\n",
        "\n",
        "행렬\n",
        "    - 동일 크기의 행렬/벡터만 더하기 가능. > python 예외 있음.\n",
        "    - 2*3 , 3*4는 곱하기 가능(중간의 두 숫자가 같음) 결과는 양쪽 숫자의 모양이 됨. 즉 2*4 가 결과로 나올거임. (곱하기는 이쪽 열과 저쪽 행을 차례로 곱해서 하나의 숫자가 될 때까지 더해서 나온 것이 그 자리의 수가 됨. 여튼 매우 귀찮)\n",
        "\n",
        "* python 예외 : 행렬 + 1 하면, 행렬의 모든 요소에 1를 더한 상태로 계산되어 나온다. 신기하징?"
      ],
      "metadata": {
        "id": "lLYVDUd4r3ds"
      }
    }
  ]
}